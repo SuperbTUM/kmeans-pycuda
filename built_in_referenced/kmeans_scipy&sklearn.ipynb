{
  "nbformat": 4,
  "nbformat_minor": 0,
  "metadata": {
    "colab": {
      "name": "kmeans_scipy.ipynb",
      "provenance": [],
      "collapsed_sections": []
    },
    "kernelspec": {
      "name": "python3",
      "display_name": "Python 3"
    }
  },
  "cells": [
    {
      "cell_type": "code",
      "metadata": {
        "colab": {
          "base_uri": "https://localhost:8080/"
        },
        "id": "TBJpdgjFRfsI",
        "outputId": "2aa60c2f-dea9-4af7-ef0f-c7f5ab2fc2a9"
      },
      "source": [
        "from google.colab import drive\r\n",
        "drive.mount('/content/drive')"
      ],
      "execution_count": 1,
      "outputs": [
        {
          "output_type": "stream",
          "text": [
            "Mounted at /content/drive\n"
          ],
          "name": "stdout"
        }
      ]
    },
    {
      "cell_type": "code",
      "metadata": {
        "id": "mk_CWJg6RvSp"
      },
      "source": [
        "import sys\r\n",
        "import os\r\n",
        "path = '/content/drive/My Drive'\r\n",
        "sys.path.append(path)\r\n",
        "os.chdir(path)\r\n",
        "os.listdir(path)"
      ],
      "execution_count": null,
      "outputs": []
    },
    {
      "cell_type": "code",
      "metadata": {
        "colab": {
          "base_uri": "https://localhost:8080/"
        },
        "id": "K64Wrd_RRzYr",
        "outputId": "38204a05-50d0-4bc6-ff29-abf745078e8e"
      },
      "source": [
        "import scipy.cluster as cluster\r\n",
        "import dask.dataframe as dd\r\n",
        "import numpy as np\r\n",
        "import time\r\n",
        "\r\n",
        "dataset = dd.read_csv('kdd_pre_final.csv', sep=',')\r\n",
        "category_real = dataset.loc[:, [\"classification\"]]\r\n",
        "dataset = dataset.iloc[:, :-2]\r\n",
        "dataset = np.array(dataset, dtype=np.float32)\r\n",
        "\r\n",
        "k = 23\r\n",
        "start = time.time()\r\n",
        "for _ in range(10):\r\n",
        "  _, labels = cluster.vq.kmeans2(dataset, k, 50, minit='points')\r\n",
        "end = time.time()\r\n",
        "print(\"Running time is {} seconds.\".format((end-start)/10))"
      ],
      "execution_count": 33,
      "outputs": [
        {
          "output_type": "stream",
          "text": [
            "/usr/local/lib/python3.6/dist-packages/scipy/cluster/vq.py:579: UserWarning: One of the clusters is empty. Re-run kmeans with a different initialization.\n",
            "  warnings.warn(\"One of the clusters is empty. \"\n"
          ],
          "name": "stderr"
        },
        {
          "output_type": "stream",
          "text": [
            "Running time is 14.324309587478638 seconds.\n"
          ],
          "name": "stdout"
        }
      ]
    },
    {
      "cell_type": "code",
      "metadata": {
        "colab": {
          "base_uri": "https://localhost:8080/"
        },
        "id": "v6v2kpk5aMAY",
        "outputId": "60fb64c7-b8ae-4dd0-e22f-e0a37593a28e"
      },
      "source": [
        "from sklearn import metrics\r\n",
        "from collections import Counter\r\n",
        "\r\n",
        "\r\n",
        "category_real = np.array(category_real)\r\n",
        "category = []\r\n",
        "for i in range(dataset.shape[0]):\r\n",
        "    category.append(category_real[i][0])\r\n",
        "category = np.array(category)\r\n",
        "category_pre = labels\r\n",
        "real = Counter(category)\r\n",
        "pre = Counter(category_pre)\r\n",
        "print(real)\r\n",
        "print(pre)\r\n",
        "real = real.most_common()\r\n",
        "pre = pre.most_common()\r\n",
        "for j in range(dataset.shape[0]):\r\n",
        "    for nn in range(k):\r\n",
        "        if(category[j] == real[nn][0]):\r\n",
        "            category[j] = int(pre[nn][0])\r\n",
        "ARI = metrics.adjusted_rand_score(category, category_pre)\r\n",
        "AMI = metrics.adjusted_mutual_info_score(category, category_pre)\r\n",
        "print(\"调整兰德指数为\", ARI)\r\n",
        "print(\"归一化互信息指数为\", AMI)"
      ],
      "execution_count": 34,
      "outputs": [
        {
          "output_type": "stream",
          "text": [
            "Counter({5.0: 280790, 4.0: 107201, 0.0: 97278, 13.0: 2203, 15.0: 1589, 10.0: 1247, 9.0: 1040, 20.0: 1020, 8.0: 979, 7.0: 264, 17.0: 231, 6.0: 53, 1.0: 30, 11.0: 21, 19.0: 20, 14.0: 12, 22.0: 10, 2.0: 9, 12.0: 8, 18.0: 7, 16.0: 4, 3.0: 3, 21.0: 2})\n",
            "Counter({4: 227021, 1: 37698, 12: 34456, 22: 29502, 14: 28767, 13: 28158, 10: 25337, 19: 23853, 6: 14963, 7: 7273, 2: 7116, 15: 6512, 0: 5597, 3: 5298, 18: 4303, 17: 4186, 20: 1708, 9: 1469, 16: 489, 11: 180, 21: 65, 8: 53, 5: 17})\n",
            "调整兰德指数为 0.2759572706062531\n",
            "归一化互信息指数为 0.39426536397543815\n"
          ],
          "name": "stdout"
        }
      ]
    },
    {
      "cell_type": "code",
      "metadata": {
        "colab": {
          "base_uri": "https://localhost:8080/"
        },
        "id": "oFvMjuSLSfje",
        "outputId": "3402a31c-ba6a-40cb-de93-6d47671f3fb0"
      },
      "source": [
        "import sklearn.cluster as skcluster\r\n",
        "start = time.time()\r\n",
        "for _ in range(10):\r\n",
        "  kmeans = skcluster.KMeans(n_clusters=k, init='random', n_init=1, max_iter=50).fit_predict(dataset)\r\n",
        "end = time.time()\r\n",
        "print(\"Running time is {} seconds.\".format((end-start)/10))"
      ],
      "execution_count": 37,
      "outputs": [
        {
          "output_type": "stream",
          "text": [
            "/usr/local/lib/python3.6/dist-packages/sklearn/cluster/_kmeans.py:1008: ConvergenceWarning: Number of distinct clusters (22) found smaller than n_clusters (23). Possibly due to duplicate points in X.\n",
            "  return self.fit(X, sample_weight=sample_weight).labels_\n",
            "/usr/local/lib/python3.6/dist-packages/sklearn/cluster/_kmeans.py:1008: ConvergenceWarning: Number of distinct clusters (21) found smaller than n_clusters (23). Possibly due to duplicate points in X.\n",
            "  return self.fit(X, sample_weight=sample_weight).labels_\n"
          ],
          "name": "stderr"
        },
        {
          "output_type": "stream",
          "text": [
            "Running time is 3.750078248977661 seconds.\n"
          ],
          "name": "stdout"
        }
      ]
    },
    {
      "cell_type": "code",
      "metadata": {
        "colab": {
          "base_uri": "https://localhost:8080/"
        },
        "id": "__oNszVeVIKv",
        "outputId": "56c90ccc-7fd4-4c48-f720-98afb9a1b055"
      },
      "source": [
        "from sklearn import metrics\r\n",
        "from collections import Counter\r\n",
        "\r\n",
        "\r\n",
        "category_real = np.array(category_real)\r\n",
        "category = []\r\n",
        "for i in range(dataset.shape[0]):\r\n",
        "    category.append(category_real[i][0])\r\n",
        "category = np.array(category)\r\n",
        "category_pre = kmeans\r\n",
        "real = Counter(category)\r\n",
        "pre = Counter(category_pre)\r\n",
        "print(real)\r\n",
        "print(pre)\r\n",
        "real = real.most_common()\r\n",
        "pre = pre.most_common()\r\n",
        "for j in range(dataset.shape[0]):\r\n",
        "    for nn in range(k):\r\n",
        "        if(category[j] == real[nn][0]):\r\n",
        "            category[j] = int(pre[nn][0])\r\n",
        "ARI = metrics.adjusted_rand_score(category, category_pre)\r\n",
        "AMI = metrics.adjusted_mutual_info_score(category, category_pre)\r\n",
        "print(\"调整兰德指数为\", ARI)\r\n",
        "print(\"归一化互信息指数为\", AMI)"
      ],
      "execution_count": 38,
      "outputs": [
        {
          "output_type": "stream",
          "text": [
            "Counter({5.0: 280790, 4.0: 107201, 0.0: 97278, 13.0: 2203, 15.0: 1589, 10.0: 1247, 9.0: 1040, 20.0: 1020, 8.0: 979, 7.0: 264, 17.0: 231, 6.0: 53, 1.0: 30, 11.0: 21, 19.0: 20, 14.0: 12, 22.0: 10, 2.0: 9, 12.0: 8, 18.0: 7, 16.0: 4, 3.0: 3, 21.0: 2})\n",
            "Counter({1: 280703, 19: 29537, 15: 29415, 17: 25037, 18: 23790, 14: 21346, 9: 18926, 12: 17637, 2: 14283, 0: 11805, 20: 9302, 11: 5478, 3: 3572, 8: 1563, 21: 1263, 22: 105, 4: 102, 5: 77, 6: 58, 7: 10, 16: 5, 13: 4, 10: 3})\n",
            "调整兰德指数为 0.8497601126606108\n",
            "归一化互信息指数为 0.7201502872117683\n"
          ],
          "name": "stdout"
        }
      ]
    }
  ]
}
